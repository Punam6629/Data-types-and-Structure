{
  "nbformat": 4,
  "nbformat_minor": 0,
  "metadata": {
    "colab": {
      "provenance": []
    },
    "kernelspec": {
      "name": "python3",
      "display_name": "Python 3"
    },
    "language_info": {
      "name": "python"
    }
  },
  "cells": [
    {
      "cell_type": "markdown",
      "source": [
        "bold text"
      ],
      "metadata": {
        "id": "kWki8nAfyKZt"
      }
    },
    {
      "cell_type": "markdown",
      "source": [],
      "metadata": {
        "id": "X87_8s-62O8A"
      }
    },
    {
      "cell_type": "markdown",
      "source": [],
      "metadata": {
        "id": "Srw5jC7qM24p"
      }
    },
    {
      "cell_type": "markdown",
      "source": [
        "# Data types and Structure"
      ],
      "metadata": {
        "id": "9bZgXvRm10If"
      }
    },
    {
      "cell_type": "markdown",
      "source": [],
      "metadata": {
        "id": "5tJ9XVPKBABo"
      }
    },
    {
      "cell_type": "markdown",
      "source": [],
      "metadata": {
        "id": "p3JWFCxwMsPg"
      }
    },
    {
      "cell_type": "markdown",
      "source": [],
      "metadata": {
        "id": "AmegemaLMr1g"
      }
    },
    {
      "cell_type": "markdown",
      "source": [],
      "metadata": {
        "id": "otXfOnPHMzyu"
      }
    },
    {
      "cell_type": "markdown",
      "source": [],
      "metadata": {
        "id": "NYlZ3Yd5M0iF"
      }
    },
    {
      "cell_type": "markdown",
      "source": [
        "1. What is data structures,and why are they important?\n",
        "- A data structure is a way of organizing,storing, and managing data in a computer so that it can be used efficiently . It defines the relationships between data elements and provides a means to access and manipulate the data effectively.\n",
        "- **Importance of Data Structures\n",
        "-A. Efficient Data Management : Proper organization allows data to be stored and retrieved efficiently.\n",
        "-   B. Performance Optimization : Using the right data structure can significantly improve the speed of operations like searching, sorting or inserting.\n",
        "- C. Problem Solving : Many algorithms are designed with specific data structures in mind .\n",
        "- D. Code Maintaninability and Reusability : Proper data structures make programs cleaner, easier to debug ,and reusable for other applications .\n",
        "2. Explain the difference between mutable and immutable data types with examples.\n",
        "- A . Mutable Data Types : Mutable data types are those whose values can be modified after creation.\n",
        "It changes are made in place (same object). its less perfomance overhead in modification . Examples - Lists, dictionaries, sets.\n",
        "- B . Immutable Data Types  : Immutable data types are thoes whose values cannot be changed after creation . If a modification is required , a new object is created. New objects are created for changes. Its better performance due to immutability .Examples - Tuple. string , integer , float .\n",
        "3.  What are the main differences between lists and tuples in Python.\n",
        "- In Python, lists and tuples are both data structures used to store collections of items, but they have some key differences:\n",
        "- A.  Mutability:\n",
        "Lists: Mutable (you can modify, add, or remove items).\n",
        "Tuples: Immutable (once created, their elements cannot be changed, added, or removed).\n",
        "- B. Syntax:\n",
        "Lists: Defined using square brackets [ ].\n",
        "\n",
        "  Tuples: Defined using parentheses ( ) or just commas for multiple items (though explicit parentheses are preferred for clarity).\n",
        "\n",
        "- C . Performance:\n",
        "Lists: Slower due to their mutability; they require additional overhead to support dynamic changes.\n",
        "- Tuples: Faster because they are immutable, making them less memory-intensive and allowing certain optimizations.\n",
        "- D . Use Cases:\n",
        "Lists: Used when you need a collection of items that might change, such as when you need to sort, append, or modify elements.\n",
        "- Tuples: Used for fixed collections of items, especially when data integrity is important (e.g., coordinates, configurations, or keys in dictionaries).\n",
        "- E . Functions and Methods:\n",
        "Lists: Provide a rich set of methods for manipulation (e.g., append(), remove(), pop(), sort()).\n",
        "- Tuples: Have limited methods, mostly related to counting and finding elements (e.g., count(), index()).\n",
        "- F . Immutability in Nested Structures:\n",
        "If a tuple contains mutable objects like lists, those mutable objects can still be modified.\n",
        "\n",
        "- G .Hashability:\n",
        "Lists: Not hashable (cannot be used as keys in dictionaries or elements in sets).\n",
        "- Tuples: Hashable (if all their elements are hashable) and can be used as dictionary keys or set elements.\n",
        "4. Describe how dictionaries store data.\n",
        "- A . Structure of a Dictionary:\n",
        "A dictionary is made up of:\n",
        "Keys: Immutable and unique identifiers for data.\n",
        "Values: The associated data, which can be of any type and can be duplicated.\n",
        "- B . How Data is Stored:\n",
        "- a .Hashing:\n",
        "\n",
        "Keys are processed using a hash function to generate a unique numeric representation called a hash value.\n",
        "This hash value determines the key's position (or bucket) in the dictionary's internal storage.\n",
        "Buckets:\n",
        "\n",
        "The dictionary maintains an array of buckets, where each bucket holds one or more key-value pairs.\n",
        "If two keys produce the same hash value (a hash collision), the dictionary uses a collision resolution strategy, typically chaining (storing colliding key-value pairs in a linked list).\n",
        "- C . Operations:\n",
        "- a . Insertion:\n",
        "\n",
        "When adding a key-value pair, Python computes the hash of the key and stores the pair in the corresponding bucket.\n",
        "To retrieve a value, Python computes the hash of the key and directly accesses the corresponding bucket.\n",
        "This makes dictionary lookups very fast on average (O(1) time complexity).\n",
        "Deletion:\n",
        "\n",
        "Similar to lookup, Python uses the key's hash to locate and remove the key-value pair.\n",
        "- D . Advantages of Hash Table Storage:\n",
        "Fast Access: Average time complexity for insertions, deletions, and lookups is O(1).\n",
        "Dynamic Resizing: When the dictionary grows too large, Python automatically resizes the hash table and rehashes the keys to redistribute them.\n",
        "- E . Potential Challenges:\n",
        "Hash Collisions: Multiple keys producing the same hash value can degrade performance, but Python's implementation minimizes this through robust collision resolution strategies.\n",
        "Memory Usage: Dictionaries are memory-intensive because they reserve extra space to minimize collisions and optimize speed.\n",
        "5. Why might you use a set instead of a list in Python.\n",
        "- A .  When to Use a Set:\n",
        "- a . You need uniqueness: For example, finding unique elements in a collection.\n",
        "- b .You need fast membership tests: For example, checking if an element exists in a large collection.\n",
        "- c . You need to perform set operations: Such as finding common or distinct elements between two collections.\n",
        "Order doesn’t matter: If you don’t care about the sequence of elements.\n",
        "\n",
        "- B .  When to Use a List:\n",
        "Order matters:\n",
        "- a .  You need to maintain the order of elements.\n",
        "Duplicates are required:\n",
        "- b . You want to store repeated elements.\n",
        "- c . Performance isn't critical for membership tests: For small datasets, lists are fine.\n",
        "6. What is a string in Python, and how is it different from a list?\n",
        "- A string in Python is a sequence of characters enclosed in quotes (single, double, or triple). While strings and lists both represent sequences and share some similarities, they are distinct data types with key differences.\n",
        "- A .  Similarities:\n",
        "- a . Indexing:\n",
        "Both strings and lists support indexing to access elements.\n",
        "- b . Slicing:\n",
        "You can extract substrings or sublists using slicing.\n",
        "- c . Iteration:\n",
        "Both can be iterated using loops.\n",
        "- B . Differences in Operations\n",
        "Modification:\n",
        "\n",
        "- String: Cannot be modified directly (immutable).\n",
        "Instead, you create a new string:\n",
        "- List: Can be modified directly (mutable).\n",
        "- Element type :\n",
        "String: Always a sequence of characters.\n",
        "List: Can store elements of any type.\n",
        "- C . Methods:\n",
        "- String: Offers methods like split(), join(), replace(), upper()\n",
        "- List: Offers methods like append(), extend(), pop(), sort(), etc.\n",
        "- When to Use Which?\n",
        "- a . String:\n",
        "Use when working with text or characters.\n",
        "Ideal for scenarios requiring immutability and text-specific operations (e.g., parsing a file).\n",
        "- b . List:\n",
        "Use for collections of elements where types may vary or changes are needed.\n",
        "Ideal for dynamic collections (e.g., adding/removing elements frequently).\n",
        "7. How do tuples ensure data integrity in Python?\n",
        "- A .  Immutability\n",
        "Definition: Tuples are immutable, meaning their contents cannot be altered after creation.\n",
        "- Impact on Data Integrity:\n",
        "Prevents accidental or intentional modifications to the data.\n",
        "Ensures that the tuple's values remain consistent and trustworthy.\n",
        "- B .  Use as Keys in Dictionaries or Elements in Sets\n",
        "- Tuples are hashable (if all their elements are hashable), which allows them to be used as keys in dictionaries or elements in sets.\n",
        "- Because tuples cannot change, their hash value remains constant, ensuring reliability when used in these contexts.\n",
        "- C .  Representing Fixed Data Structures\n",
        "Tuples are ideal for scenarios where the structure and content of the data are logically constant, such as:\n",
        "- Geographic coordinates (latitude, longitude).\n",
        "-  color values.\n",
        "- Database records.\n",
        "- D .  Reducing Bugs\n",
        "Since tuples cannot be modified, functions or operations that rely on the tuple's data won't encounter unexpected changes.\n",
        "- This immutability is especially useful when passing tuples to functions or sharing data across different parts of a program.\n",
        "- E . Immutability of Nested Elements\n",
        "While tuples themselves are immutable, they can contain mutable elements (e.g., lists). However, this introduces a potential risk to data integrity.\n",
        "- To ensure complete data integrity, avoid including mutable objects within tuples or use immutable alternatives (e.g., tuple instead of list).\n",
        "- F .  Lightweight Nature\n",
        "Tuples are generally more memory-efficient than lists because of their immutability.\n",
        "- This efficiency, combined with their immutability, makes them ideal for scenarios where performance and data consistency are critical.\n",
        "8. What is a hash table, and how does it relate to dictionaries in Python?\n",
        "- A hash table uses a hash function to compute a unique hash value (or hash code) for each key.\n",
        "This hash value determines the index (or \"bucket\") where the key-value pair is stored in the table.\n",
        "By leveraging hash values, hash tables provide average-case O(1) time complexity for operations like lookup, insertion, and deletion.\n",
        "- How Hash Tables Relate to Dictionaries in Python\n",
        "Storage of Key-Value Pairs:\n",
        "\n",
        "- In a dictionary, each key is hashed, and its corresponding value is stored in the hash table at the index determined by the hash value.\n",
        "\n",
        "- The key \"name\" is hashed to compute its hash value, which determines where the pair \"name\": \"Alice\" is stored.\n",
        "Efficiency:\n",
        "\n",
        "- The hash table enables dictionaries to have average O(1) time complexity for operations like:\n",
        "Adding key-value pairs.\n",
        "Accessing values by key.\n",
        "Deleting pairs by key.\n",
        "\n",
        "- Keys must be hashable (i.e., they must have a consistent hash value and be immutable).\n",
        "Examples of hashable keys: strings, numbers, tuples of immutable elements.\n",
        "Mutable objects like lists or dictionaries cannot be used as keys.\n",
        "\n",
        "- Python dictionaries resolve hash collisions using chaining.\n",
        "When multiple keys produce the same hash, the dictionary stores them in the same bucket but maintains a separate list or chain to differentiate the keys.\n",
        "Dynamic Resizing:\n",
        "Dictionaries automatically resize their underlying hash table to maintain efficiency as more key-value pairs are added.\n",
        "9. Can lists contain different data types in Python?\n",
        "- Examples of Lists with Different Data Types\n",
        "Mixed Types in a Single List:\n",
        "- List with Functions and Objects\n",
        "Use Cases for Mixed-Type Lists\n",
        "Heterogeneous Data:\n",
        "\n",
        "Useful when handling diverse datasets where each element represents different attributes.\n",
        "Complex Data Structures:\n",
        "\n",
        "- Lists can serve as containers for objects, functions, or nested structures.\n",
        "\n",
        "Dynamic Applications:\n",
        "\n",
        "- Lists are versatile and can handle dynamic use cases like storing user inputs or processing data from APIs.\n",
        "Considerations When Using Mixed-Type Lists\n",
        "Type-Specific Operations:\n",
        "\n",
        "You may need to check the type of elements before performing operations.\n",
        "\n",
        "- Readability:\n",
        "\n",
        "- Storing different types in a list can make the code harder to understand if used excessively.\n",
        "Memory Efficiency:\n",
        "\n",
        "- Mixed-type lists may be less memory-efficient than homogenous ones because Python needs to store type information for each element.\n",
        "10. Explain why strings are immutable in Python?\n",
        "-\n",
        "Strings in Python are immutable, meaning their contents cannot be changed once they are created. This design choice offers several benefits, including efficiency, simplicity, and security. Here’s a detailed explanation of why strings are immutable:\n",
        "- A . Memory Efficiency (String Interning)\n",
        "String Interning:\n",
        "- Python optimizes memory usage by storing immutable strings in a shared memory pool (called interning).\n",
        "- If two strings with the same value are created, Python can reuse the same memory reference instead of creating duplicate objects.\n",
        "- B . Immutability Ensures Safety:\n",
        "- Since strings cannot be modified, reusing the same memory location for identical strings is safe.\n",
        "- This reduces memory overhead and improves performance.\n",
        ". Hashability and Use as Keys\n",
        "- Hashable Strings:\n",
        "- Immutability ensures that the hash value of a string remains constant throughout its lifetime.\n",
        "This makes strings suitable for use as keys in dictionaries or elements in sets.\n",
        "- C . If Strings Were Mutable:\n",
        "- Modifying a string would change its hash value, breaking dictionary or set behavior.\n",
        " Thread Safety\n",
        "Immutability ensures that strings are inherently thread-safe.\n",
        "When multiple threads access a string, there’s no risk of one thread modifying it and causing unexpected behavior in another thread.\n",
        "- D . Simplicity and Predictability\n",
        "Immutability eliminates the need to track changes to strings, making code easier to read and debug.\n",
        "- For example, when passing strings to functions, you can trust that the original string won’t be altered:\n",
        "-E . Security\n",
        "Strings often store sensitive data.\n",
        "- Immutability ensures that such data cannot be accidentally or maliciously altered after it is created.\n",
        "- F .  Performance Benefits\n",
        "Copy-on-write behavior allows Python to avoid copying strings unnecessarily.\n",
        "- Since strings are immutable, operations that create new strings reuse parts of the original strings where possible.\n",
        "- G .  Immutable Nature of Text :\n",
        "- Text data is typically static in most applications.\n",
        "Representing it with an immutable data type aligns with how text is used in programming.\n",
        "11. What advantages do dictionaries offer over lists for certain tasks?\n",
        "- Dictionaries offer several advantages over lists for certain tasks, especially when the nature of the task involves data lookup, association, or quick access. Here are some key advantages:\n",
        "\n",
        "- a . Key-Value Pair Association:\n",
        "\n",
        "- Dictionaries store data in the form of key-value pairs, making them ideal for tasks where each piece of data is associated with a unique identifier. For example, a phone book where names  map to phone numbers.\n",
        "- b . Faster Lookups:\n",
        "- Accessing a value in a dictionary by its key is very fast time complexity compared to searching for an item in a list, which has complexity in the worst case.\n",
        "- c . Unordered and Efficient Storage:\n",
        "- Dictionaries are unordered but optimized for operations involving key-based retrieval. This makes them highly efficient for tasks like membership testing, retrieving specific items, or managing data that doesn’t rely on order.\n",
        "- d . Avoids Duplication of Keys:\n",
        "- Keys in dictionaries must be unique, which prevents accidental duplication of identifiers. This is useful for tasks that require enforcing uniqueness, like managing user IDs.\n",
        "- d . Flexible Data Representation:\n",
        "- A dictionary can hold complex data structures by associating a key with a value that might be another dictionary, list, or even a custom object. This makes it versatile for representing structured data like JSON.\n",
        "- e . Ease of Updates:\n",
        "- Adding, updating, or removing elements is straightforward in a dictionary. The operations are more intuitive compared to maintaining index positions in a list.\n",
        "- f . Readable Code:\n",
        "- When using dictionaries, code often becomes more readable and self-explanatory. For instance, instead of referring to an index in a list.\n",
        "\n",
        "12.Describe a scenario where using a tuple would be preferable over a list.\n",
        "- A tuple would be preferable over a list in scenarios where the data needs to be immutable or fixed. Tuples are inherently immutable, meaning once created, their contents cannot be modified. Here’s a detailed scenario:\n",
        "\n",
        "- A . Scenario: Storing Coordinates of a Point\n",
        "- Suppose you're working on a program that deals with 2D or 3D graphics, and you need to represent the fixed coordinates of a point in space.\n",
        "- * Why Use a Tuple?\n",
        "- B . Immutability:\n",
        "- Coordinates are not expected to change during the program's execution. Using a tuple ensures that the values remain fixed, preventing accidental modification.\n",
        "- C . Semantic Clarity:\n",
        "- Tuples convey the intent that the data is a single, cohesive unit. For instance, (3, 5, 7) is clearly a point in space, while [3, 5, 7] might imply a collection of mutable data points.\n",
        "- D . Performance:\n",
        "- Tuples are typically smaller and faster to access than lists because they are immutable and lack methods like append() or remove(). This can make them a better choice when working with large datasets or in performance-critical applications.\n",
        "- E . Hashability:\n",
        "- Tuples are hashable (as long as their elements are hashable), so they can be used as keys in dictionaries or elements in sets. Lists, being mutable, cannot.\n",
        "\n",
        "13 . How do sets handle duplicate values in Python ?\n",
        "- In Python, sets automatically handle duplicate values by ensuring that all elements within a set are unique. If duplicate values are added to a set, they are ignored, and the set retains only one instance of each value.\n",
        "\n",
        "- Key Points About Sets and Duplicates:\n",
        "- a . Uniqueness:\n",
        "- Sets are collections that do not allow duplicates. If you attempt to add duplicate elements, they are silently ignored.\n",
        "- b . Underlying Mechanism:\n",
        "- Sets use a hash table under the hood to store elements. The hash values of elements ensure uniqueness by preventing duplicate entries.\n",
        "- c . No Error on Duplicates:\n",
        "- Adding duplicate values does not raise an error; they are simply not added.\n",
        "Order Is Not Preserved:\n",
        "Sets are unordered collections, so the order of elements is not guaranteed.\n",
        "\n",
        "14 .How does the “in” keyword work differently for lists and dictionaries?\n",
        "- 1. in with Lists\n",
        "- What it checks:\n",
        "- The in keyword checks if a specific value is present in the list by iterating through each element.\n",
        "- Time Complexity:\n",
        "- The time complexity is O(n), as it performs a linear search through the list.\n",
        "- Use Case:\n",
        "- Membership testing in ordered or unordered collections where duplicates might exist.\n",
        "2. in with Dictionaries\n",
        "- What it checks:\n",
        "- The in keyword checks if a specific key exists in the dictionary, not values.\n",
        "- Time Complexity:\n",
        "- The time complexity is  on average because dictionaries use a hash table for key lookups.\n",
        "- To Check Values:\n",
        "Use the values() method to explicitly test for membership in the dictionary’s values.\n",
        "- Use Case:\n",
        "- Efficient membership testing for keys in mappings or associations.\n",
        "\n",
        "15.Can you modify the elements of a tuple? Explain why or why not?\n",
        "- No, you cannot modify the elements of a tuple in Python because tuples are immutable. Once a tuple is created, its elements cannot be changed, added, or removed. This immutability is a defining characteristic of tuples and is enforced by Python to ensure that tuples remain constant throughout their lifetime.\n",
        "- Why Are Tuples Immutable?\n",
        "- a . Data Integrity:\n",
        "- Immutability ensures that data stored in a tuple cannot be accidentally modified, making tuples suitable for storing fixed data or constants.\n",
        "- b . Hashability:\n",
        "- Tuples are hashable (if all their elements are hashable), meaning they can be used as keys in dictionaries or elements in sets. If tuples were mutable, their hash values could change, causing inconsistencies.\n",
        "- c . Performance:\n",
        "- Since tuples are immutable, they are optimized for memory and speed compared to lists. This makes them efficient for use in scenarios where data does not need to change.\n",
        "- Workarounds for Modifying \"Tuple-Like\" Data\n",
        "- While you can't modify a tuple itself, you can:\n",
        "- a . Convert the Tuple to a List:\n",
        "- You can convert the tuple to a list, make modifications, and then convert it back to a tuple.\n",
        "- b . Reassign the Tuple:\n",
        "- You can create a new tuple entirely and assign it to the same variable, but this creates a new object, not a modification of the original.\n",
        "- c . Mutable Elements Inside Tuples:\n",
        "- If a tuple contains mutable elements, you can modify the contents of those mutable element.\n",
        "\n",
        "16 . What is a nested dictionary, and give an example of its use case?\n",
        "- A nested dictionary is a dictionary that contains other dictionaries as values. It allows for hierarchical or multi-level data storage, enabling complex data structures to be represented in an organized manner.\n",
        "- Structure of a Nested Dictionary\n",
        "- The outer dictionary holds keys and values.\n",
        "- Some of the values are dictionaries themselves, creating a multi-level structure.\n",
        "- Use Case Example\n",
        "- Scenario: Representing a School's Data\n",
        "- A school wants to store information about its students, organized by grade, where each student has attributes like name and age.\n",
        "\n",
        "17 . Describe the time complexity of accessing elements in a dictionary.\n",
        "- Key Points About Dictionary Access Time Complexity\n",
        "- A. Hash Table Implementation:\n",
        "- Dictionaries use a hash table to store keys.\n",
        "- When you access an element by its key , Python calculates the hash of the key and uses it to locate the associated value directly in the hash table.\n",
        "- B . Average Case: O(1):\n",
        "- In most cases, retrieving a value from a dictionary by its key is a constant-time operation because the hash function maps the key to a specific - - location in the underlying data structure.\n",
        "- C. Worst Case: O(n):\n",
        "- In rare cases, multiple keys may produce the same hash value, resulting in a hash collision.\n",
        "-  When this happens, the keys are stored in a data structure like a linked list or binary tree, and the lookup requires searching through these elements.\n",
        "If many collisions occur  the lookup time could degrade to O(n).\n",
        "- D. Python minimizes collisions through:\n",
        "- A well-designed hash function.\n",
        "- Dynamic resizing of the hash table.\n",
        "- E . Amortized Performance:\n",
        "- The average time complexity remains O(1) because Python handles collisions efficiently and resizes the hash table when necessary.\n",
        "\n",
        "18.  In what situations are lists preferred over dictionaries ?\n",
        "- 1. When Order Matters\n",
        "- Lists maintain the order of elements as they are added, whereas did not guarantee order. In modern Python, dictionaries preserve insertion order, but lists are still more intuitive for ordered collections.\n",
        "Example:\n",
        "A to-do list: [\"Task 1\", \"Task 2\", \"Task 3\"].\n",
        "2. When Duplicates Are Allowed\n",
        "- Lists can have duplicate elements, whereas dictionary keys must be unique.\n",
        "Example:\n",
        "Counting votes: votes = [\"Alice\", \"Bob\", \"Alice\", \"Charlie\"].\n",
        "3. When Data Is Sequential or Indexed\n",
        "- Lists are optimized for index-based access and processing sequential data.\n",
        "Example:\n",
        "Accessing the 5th element in a list: my_list[4].\n",
        "Representing time-series data: [10, 15, 20, 25].\n",
        "4. When Simplicity Is Key\n",
        "- For small, simple collections of data, lists are easier to work with and more straightforward than dictionaries, which require both keys and values.\n",
        "Example:\n",
        "Storing a collection of file names: [\"file1.txt\", \"file2.txt\", \"file3.txt\"].\n",
        "5. When Performance for Iteration Is Critical\n",
        "- Lists are faster than dictionaries for iteration because dictionaries involve additional overhead from handling keys and values.\n",
        "6. When Data Doesn't Require Keys\n",
        "- If there is no need for meaningful identifiers or labels for elements, lists are more suitable.\n",
        "Example:\n",
        "Storing a group of numbers: [3, 7, 11, 15].\n",
        "7. For Homogeneous Data\n",
        "- Lists are often used for collections of homogeneous data (data of the same type), while dictionaries are more common for heterogeneous, key-value paired data.\n",
        "Example:\n",
        "Storing ages of people: [21, 25, 30, 35].\n",
        "8. Simpler Memory Footprint\n",
        "- Lists have a smaller memory footprint compared to dictionaries because dictionaries maintain additional structures like a hash table.\n",
        "\n",
        "19. Why are dictionaries considered unordered, and how does that affect data retrieval?\n",
        "- Why  Were Dictionaries Historically Considered Unordered?\n",
        "- A. Hash Table Structure:\n",
        "- Dictionaries use a hash table, where keys are hashed to determine their storage location.\n",
        "- The hash table's design prioritizes fast lookups, insertions, and deletions, not maintaining order.\n",
        "- B. Dynamic Resizing:\n",
        "- When the dictionary grows and resizes to handle more elements, the underlying storage is reallocated, which could disrupt any perceived ordering in earlier versions of Python.\n",
        "- C . Focus on Key-Value Pairing:\n",
        "- The primary purpose of a dictionary is efficient mapping of keys to values, not preserving the order of keys.\n",
        "- Impact on Data Retrieval in Older Versions (< Python 3.7)\n",
        "- A . Unpredictable Order:\n",
        "- The order in which key-value pairs were returned by methods like .items(), .keys(), or .values() could differ from the insertion order.\n",
        "- B . Iterative Processes:\n",
        "- Iterating over a dictionary required caution if order was important, as the sequence could vary between program runs.\n",
        "\n",
        "20 .Explain the difference between a list and a dictionary in terms of data retrieval.\n",
        "- 1. Data Retrieval in a List\n",
        "- Access Method:\n",
        "- In a list, elements are retrieved by their index, which is an integer indicating the position of the element in the list.\n",
        "- Index-Based Access:\n",
        "- Indexes start at 0 and are used for retrieval.\n",
        "Negative indexing allows access from the end of the list (-1 is the last element).\n",
        "- Time Complexity:\n",
        "- Access by index is O(1) because the list stores elements in contiguous memory locations, enabling direct access.\n",
        "Sequential Search:\n",
        "- If searching for a specific value without knowing its index, the time complexity is O(n) because Python must iterate through the entire list.\n",
        "- 2. Data Retrieval in a Dictionary\n",
        "Access Method:\n",
        "- In a dictionary, elements are retrieved by their key, which is a unique identifier for each value.\n",
        "- Key-Based Access:\n",
        "- Each key maps to a specific value, and you cannot retrieve values using an index.\n",
        "- Time Complexity:\n",
        "- Key-based lookups are O(1) on average, thanks to the hash table implementation.\n",
        "- In rare cases of hash collisions, retrieval may degrade to O(n).\n",
        "Searching for Keys or Values:\n",
        "- To check if a key exists: key in my_dict (O(1) on average).\n",
        "- To find a value, you need to search through all values: value in my_dict.values() (O(n)).\n",
        "\n",
        "\n",
        "\n",
        "\n",
        "\n",
        "\n",
        "\n",
        "\n",
        "\n",
        "\n",
        "\n",
        "\n",
        "\n",
        "\n",
        "\n",
        "\n",
        "\n",
        "\n",
        "\n",
        "\n",
        "\n",
        "\n",
        "\n",
        "\n",
        "\n",
        "\n",
        "\n",
        "\n",
        "\n",
        "\n",
        "\n",
        "\n",
        "\n",
        "\n",
        "\n",
        "\n",
        "\n",
        "\n",
        "\n",
        "\n"
      ],
      "metadata": {
        "id": "7al6uVBI2Qho"
      }
    },
    {
      "cell_type": "code",
      "source": [
        "# 1. Write a code to create a string with your name and print it?\n",
        "- '''''\n",
        "# Create a string with my name\n",
        "name = \"Punam\"\n",
        "\n",
        "# Print the string\n",
        "print(Punam)\n",
        "\n",
        "\n"
      ],
      "metadata": {
        "id": "qNFuld0N1DTs"
      },
      "execution_count": null,
      "outputs": []
    },
    {
      "cell_type": "code",
      "source": [
        "# 2 . Write a code to find the length of the string \"Hello World\".\n",
        "'''''\n",
        "# Define the string\n",
        "string = \"Hello World\"\n",
        "\n",
        "# Find the length of the string\n",
        "length = len(string)\n",
        "\n",
        "# Print the length\n",
        "print(\"The length of the string is:\", length)\n"
      ],
      "metadata": {
        "id": "57iuxgokATTJ"
      },
      "execution_count": null,
      "outputs": []
    },
    {
      "cell_type": "code",
      "source": [
        "# 3 .  Write a code to slice the first 3 characters from the string \"Python Programming\".\n",
        "''''\n",
        "# Define the string\n",
        "string = \"Python Programming\"\n",
        "\n",
        "# Slice the first 3 characters\n",
        "sliced_string = string[:3]\n",
        "\n",
        "# Print the result\n",
        "print(\"The first 3 characters are:\", sliced_string)\n"
      ],
      "metadata": {
        "id": "BVVxnGASA0uY"
      },
      "execution_count": null,
      "outputs": []
    },
    {
      "cell_type": "code",
      "source": [
        "# 4 . Write a code to convert the string \"hello\" to uppercase.\n",
        "''''\n",
        "# Define the string\n",
        "string = \"hello\"\n",
        "\n",
        "# Convert the string to uppercase\n",
        "uppercase_string = string.upper()\n",
        "\n",
        "# Print the result\n",
        "print(\"The uppercase string is:\", uppercase_string)\n"
      ],
      "metadata": {
        "id": "OkHtrt-dB53Y"
      },
      "execution_count": null,
      "outputs": []
    },
    {
      "cell_type": "code",
      "source": [
        "# 5 . Write a code to replace the word \"apple\" with \"orange\" in the string \"I like apple\".\n",
        "''''\n",
        "# Define the string\n",
        "string = \"I like apple\"\n",
        "\n",
        "# Replace \"apple\" with \"orange\"\n",
        "modified_string = string.replace(\"apple\", \"orange\")\n",
        "\n",
        "# Print the result\n",
        "print(\" Modified_string:\" , \"apple\", \"orange\")\n"
      ],
      "metadata": {
        "id": "tcoS8DVyCZGh"
      },
      "execution_count": null,
      "outputs": []
    },
    {
      "cell_type": "code",
      "source": [
        "# 6 .  Write a code to create a list with numbers 1 to 5 and print it?\n",
        "''''\n",
        "# Create a list with numbers 1 to 5\n",
        "numbers = [1, 2, 3, 4, 5]\n",
        "\n",
        "# Print the list\n",
        "print(\"The list is:\", 1,2,3,4,5)\n"
      ],
      "metadata": {
        "id": "ncBU3hvnC76C"
      },
      "execution_count": null,
      "outputs": []
    },
    {
      "cell_type": "code",
      "source": [
        "# 7.  Write a code to append the number 10 to the list [1, 2, 3, 4].\n",
        "'''\n",
        "# Define the list\n",
        "numbers = [1, 2, 3, 4]\n",
        "\n",
        "# Append the number 10 to the list\n",
        "numbers.append(10)\n",
        "\n",
        "# Print the updated list\n",
        "print(\"Updated list:\", 1,2,3,4,10)\n"
      ],
      "metadata": {
        "id": "aFHIqWvIDQ2J"
      },
      "execution_count": null,
      "outputs": []
    },
    {
      "cell_type": "code",
      "source": [
        "# 8 . Write a code to remove the number 3 from the list [1, 2, 3, 4, 5]?\n",
        "''''\n",
        "# Define the list\n",
        "numbers = [1, 2, 3, 4, 5]\n",
        "\n",
        "# Remove the number 3 from the list\n",
        "numbers.remove(3)\n",
        "\n",
        "# Print the updated list\n",
        "print(\"Updated list:\", 1,2,4,5)\n"
      ],
      "metadata": {
        "id": "Prx6C9KgD7Zb"
      },
      "execution_count": null,
      "outputs": []
    },
    {
      "cell_type": "code",
      "source": [
        "# 9 . Write a code to access the second element in the list ['a', 'b', 'c', 'd'].\n",
        "''''\n",
        "# Define the list\n",
        "letters = ['a', 'b', 'c', 'd']\n",
        "\n",
        "# Access the second element\n",
        "second_element = letters[1]\n",
        "\n",
        "# Print the second element\n",
        "print(\"The second element is:\", 1)\n"
      ],
      "metadata": {
        "id": "oYb87oZlGxo8"
      },
      "execution_count": null,
      "outputs": []
    },
    {
      "cell_type": "code",
      "source": [
        "# 1o . Write a code to reverse the list [10, 20, 30, 40, 50].\n",
        "''''\n",
        "# Original list\n",
        "original_list = [10, 20, 30, 40, 50]\n",
        "\n",
        "# Reversing the list\n",
        "reversed_list = original_list[::-1]\n",
        "\n",
        "# Output the reversed list\n",
        "print(\"Reversed List:\", -1)\n",
        "Output:Reversed List: [50, 40, 30, 20, 10]\n",
        "\n"
      ],
      "metadata": {
        "id": "AQ5s7EQNIRuj"
      },
      "execution_count": null,
      "outputs": []
    },
    {
      "cell_type": "code",
      "source": [
        "# 11 . Write a code to create a tuple with the elements 10, 20, 30 and print it.\n",
        "''''\n",
        "# Creating a tuple\n",
        "my_tuple = (10, 20, 30)\n",
        "\n",
        "# Printing the tuple\n",
        "print(\"Tuple:\", my_tuple)\n",
        "Output:Tuple: (10, 20, 30)\n",
        "\n",
        "\n",
        "\n",
        "\n"
      ],
      "metadata": {
        "id": "dU2Mv-vT-yc8"
      },
      "execution_count": null,
      "outputs": []
    },
    {
      "cell_type": "code",
      "source": [
        "# 12.  Write a code to access the first element of the tuple ('apple', 'banana', 'cherry').\n",
        "\n",
        "''''\n",
        "# Defining the tuple\n",
        "fruits = ('apple', 'banana', 'cherry')\n",
        "\n",
        "# Accessing the first element\n",
        "first_element = fruits[0]\n",
        "\n",
        "# Printing the first element\n",
        "print(\"First element:\", first_element)\n",
        "Output:First element: apple\n",
        "\n"
      ],
      "metadata": {
        "id": "D4Hx9pHkBBWk"
      },
      "execution_count": null,
      "outputs": []
    },
    {
      "cell_type": "code",
      "source": [
        "# 13. Write a code to count how many times the number 2 appears in the tuple (1, 2, 3, 2, 4, 2).\n",
        "\n",
        "''''\n",
        "# Defining the tuple\n",
        "numbers = (1, 2, 3, 2, 4, 2)\n",
        "\n",
        "# Counting occurrences of the number 2\n",
        "count_of_two = numbers.count(2)\n",
        "\n",
        "# Printing the result\n",
        "print(\"The number 2 appears\", count_of_two, \"times in the tuple.\")\n",
        "Output:The number 2 appears 3 times in the tuple.\n"
      ],
      "metadata": {
        "id": "0sag4kHQCKFa"
      },
      "execution_count": null,
      "outputs": []
    },
    {
      "cell_type": "code",
      "source": [
        "# 14 .  Write a code to find the index of the element \"cat\" in the tuple ('dog', 'cat', 'rabbit').\n",
        "''''\n",
        "# Defining the tuple\n",
        "animals = ('dog', 'cat', 'rabbit')\n",
        "\n",
        "# Finding the index of the element \"cat\"\n",
        "index_of_cat = animals.index('cat')\n",
        "\n",
        "# Printing the index\n",
        "print(\"The index of 'cat' is:\", index_of_cat)\n",
        "Output:The index of 'cat' is: 1\n",
        "\n"
      ],
      "metadata": {
        "id": "JWfi5OM8DMVj"
      },
      "execution_count": null,
      "outputs": []
    },
    {
      "cell_type": "code",
      "source": [
        "# 15 .  Write a code to check if the element \"banana\" is in the tuple ('apple', 'orange', 'banana').\n",
        "''''\n",
        "# Defining the tuple\n",
        "fruits = ('apple', 'orange', 'banana')\n",
        "\n",
        "# Checking if \"banana\" is in the tuple\n",
        "is_banana_present = 'banana' in fruits\n",
        "\n",
        "# Printing the result\n",
        "print(\"Is 'banana' in the tuple?\", is_banana_present)\n",
        "Output:Is 'banana' in the tuple? True\n"
      ],
      "metadata": {
        "id": "IAIFYVvlEIc0"
      },
      "execution_count": null,
      "outputs": []
    },
    {
      "cell_type": "code",
      "source": [
        "# 16 .  Write a code to create a set with the elements 1, 2, 3, 4, 5 and print it.\n",
        "''''\n",
        "# Creating a set\n",
        "my_set = {1, 2, 3, 4, 5}\n",
        "\n",
        "# Printing the set\n",
        "print(\"Set:\", my_set)\n",
        "Output:Set: {1, 2, 3, 4, 5}\n"
      ],
      "metadata": {
        "id": "1uH9XAPxFHN0"
      },
      "execution_count": null,
      "outputs": []
    },
    {
      "cell_type": "code",
      "source": [
        "# 17 .  Write a code to add the element 6 to the set {1, 2, 3, 4}.\n",
        "''''\n",
        "# Creating the set\n",
        "my_set = {1, 2, 3, 4}\n",
        "\n",
        "# Adding the element 6 to the set\n",
        "my_set.add(6)\n",
        "\n",
        "# Printing the updated set\n",
        "print(\"Updated set:\", my_set)\n",
        "Output:Updated set: {1, 2, 3, 4, 6}\n"
      ],
      "metadata": {
        "id": "HwUOKRblFtzc"
      },
      "execution_count": null,
      "outputs": []
    },
    {
      "cell_type": "code",
      "source": [
        "# 18 . . Write a code to create a tuple with the elements 10, 20, 30 and print it.\n",
        "''''\n",
        "# Creating a tuple\n",
        "my_tuple = (10, 20, 30)\n",
        "\n",
        "# Printing the tuple\n",
        "print(\"Tuple:\", my_tuple)\n",
        "Output:Tuple: (10, 20, 30)\n"
      ],
      "metadata": {
        "id": "AoQ4JMmxGOmT"
      },
      "execution_count": null,
      "outputs": []
    },
    {
      "cell_type": "code",
      "source": [
        "# 19 . Write a code to access the first element of the tuple ('apple', 'banana', 'cherry').\n",
        "''''\n",
        "# Defining the tuple\n",
        "fruits = ('apple', 'banana', 'cherry')\n",
        "\n",
        "# Accessing the first element\n",
        "first_element = fruits[0]\n",
        "\n",
        "# Printing the first element\n",
        "print(\"First element:\", first_element)\n",
        "Output:First element: apple\n"
      ],
      "metadata": {
        "id": "4jcfUp2aGpmd"
      },
      "execution_count": null,
      "outputs": []
    },
    {
      "cell_type": "code",
      "source": [
        "# 20 .  Write a code to count how many times the number 2 appears in the tuple (1, 2, 3, 2, 4, 2).\n",
        "''''\n",
        "# Defining the tuple\n",
        "numbers = (1, 2, 3, 2, 4, 2)\n",
        "\n",
        "# Counting occurrences of the number 2\n",
        "count_of_two = numbers.count(2)\n",
        "\n",
        "# Printing the result\n",
        "print(\"The number 2 appears\", count_of_two, \"times in the tuple.\")\n",
        "Output:The number 2 appears 3 times in the tuple.\n"
      ],
      "metadata": {
        "id": "3OIl8hK5HFaU"
      },
      "execution_count": null,
      "outputs": []
    },
    {
      "cell_type": "code",
      "source": [
        "# 21 .  Write a code to find the index of the element \"cat\" in the tuple ('dog', 'cat', 'rabbit').\n",
        "''''\n",
        "# Defining the tuple\n",
        "animals = ('dog', 'cat', 'rabbit')\n",
        "\n",
        "# Finding the index of the element \"cat\"\n",
        "index_of_cat = animals.index('cat')\n",
        "\n",
        "# Printing the index\n",
        "print(\"The index of 'cat' is:\", index_of_cat)\n",
        "Output:The index of 'cat' is: 1\n"
      ],
      "metadata": {
        "id": "FS8zz_mmHnnM"
      },
      "execution_count": null,
      "outputs": []
    },
    {
      "cell_type": "code",
      "source": [
        "# 22 . Write a code to check if the element \"banana\" is in the tuple ('apple', 'orange', 'banana').\n",
        "''''\n",
        "# Defining the tuple\n",
        "fruits = ('apple', 'orange', 'banana')\n",
        "\n",
        "# Checking if \"banana\" is in the tuple\n",
        "is_banana_present = 'banana' in fruits\n",
        "\n",
        "# Printing the result\n",
        "print(\"Is 'banana' in the tuple?\", is_banana_present)\n",
        "Output:Is 'banana' in the tuple? True\n"
      ],
      "metadata": {
        "id": "1bZnVMKbIF10"
      },
      "execution_count": null,
      "outputs": []
    },
    {
      "cell_type": "code",
      "source": [
        "# 23 . Write a code to create a set with the elements 1, 2, 3, 4, 5 and print it.\n",
        "''''\n",
        "# Creating a set\n",
        "my_set = {1, 2, 3, 4, 5}\n",
        "\n",
        "# Printing the set\n",
        "print(\"Set:\", my_set)\n",
        "Output:Set: {1, 2, 3, 4, 5}\n"
      ],
      "metadata": {
        "id": "B3KfjPNXIed0"
      },
      "execution_count": null,
      "outputs": []
    },
    {
      "cell_type": "code",
      "source": [
        "# 24 .  Write a code to add the element 6 to the set {1, 2, 3, 4}.\n",
        "''''\n",
        "# Creating the set\n",
        "my_set = {1, 2, 3, 4}\n",
        "\n",
        "# Adding the element 6 to the set\n",
        "my_set.add(6)\n",
        "\n",
        "# Printing the updated set\n",
        "print(\"Updated set:\", my_set)\n",
        "Output:Updated set: {1, 2, 3, 4, 6}\n"
      ],
      "metadata": {
        "id": "-met9chqI2VM"
      },
      "execution_count": null,
      "outputs": []
    },
    {
      "cell_type": "code",
      "source": [],
      "metadata": {
        "id": "6UYDhflLIRs7"
      },
      "execution_count": null,
      "outputs": []
    },
    {
      "cell_type": "code",
      "source": [],
      "metadata": {
        "id": "n9d5tNOIGxnT"
      },
      "execution_count": null,
      "outputs": []
    },
    {
      "cell_type": "markdown",
      "source": [],
      "metadata": {
        "id": "WPZMO4yJO6uO"
      }
    },
    {
      "cell_type": "code",
      "source": [],
      "metadata": {
        "id": "4RauiHdDB3QI"
      },
      "execution_count": null,
      "outputs": []
    },
    {
      "cell_type": "markdown",
      "source": [],
      "metadata": {
        "id": "iWsi0BWHO8C4"
      }
    },
    {
      "cell_type": "markdown",
      "source": [],
      "metadata": {
        "id": "yR8LHEsSO8FK"
      }
    },
    {
      "cell_type": "code",
      "source": [],
      "metadata": {
        "id": "OBi0ba6QM7IN"
      },
      "execution_count": null,
      "outputs": []
    },
    {
      "cell_type": "markdown",
      "source": [],
      "metadata": {
        "id": "8Sq-7SFL1ho4"
      }
    },
    {
      "cell_type": "markdown",
      "source": [],
      "metadata": {
        "id": "dcoyOeun1hZA"
      }
    },
    {
      "cell_type": "markdown",
      "source": [],
      "metadata": {
        "id": "po7JXWEg1hHg"
      }
    },
    {
      "cell_type": "code",
      "source": [],
      "metadata": {
        "id": "AGGeecvwM6dd"
      },
      "execution_count": null,
      "outputs": []
    },
    {
      "cell_type": "markdown",
      "source": [],
      "metadata": {
        "id": "-yDGDc0SyNyd"
      }
    },
    {
      "cell_type": "markdown",
      "source": [],
      "metadata": {
        "id": "UOHAlxWn1eLR"
      }
    },
    {
      "cell_type": "code",
      "execution_count": null,
      "metadata": {
        "id": "OGg2__-kx-2b"
      },
      "outputs": [],
      "source": []
    }
  ]
}